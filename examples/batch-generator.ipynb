{
 "cells": [
  {
   "cell_type": "markdown",
   "metadata": {},
   "source": [
    "# Generating batches"
   ]
  },
  {
   "cell_type": "markdown",
   "metadata": {},
   "source": [
    "In this example we will explore how to read a simple Lightning Memory-Mapped Database (LMDB) using a batch generator."
   ]
  },
  {
   "cell_type": "code",
   "execution_count": 1,
   "metadata": {
    "collapsed": false
   },
   "outputs": [],
   "source": [
    "import numpy as np\n",
    "\n",
    "import pyxis"
   ]
  },
  {
   "cell_type": "markdown",
   "metadata": {},
   "source": [
    "Let's start by creating a small dataset of `10` samples. Each input is an image with shape `(254, 254, 3)`, while the targets are scalar values."
   ]
  },
  {
   "cell_type": "code",
   "execution_count": 2,
   "metadata": {
    "collapsed": false
   },
   "outputs": [],
   "source": [
    "nb_samples = 10\n",
    "\n",
    "X = np.random.rand(nb_samples, 254, 254, 3)\n",
    "y = np.arange(nb_samples, dtype=np.uint8)"
   ]
  },
  {
   "cell_type": "markdown",
   "metadata": {},
   "source": [
    "The data is written using the LMDB writer."
   ]
  },
  {
   "cell_type": "code",
   "execution_count": 3,
   "metadata": {
    "collapsed": false
   },
   "outputs": [],
   "source": [
    "db = pyxis.Writer(dirpath='data',\n",
    "                  input_shape=(254,254,3), target_shape=(),\n",
    "                  input_dtype=np.float32, target_dtype=np.uint8,\n",
    "                  map_size_limit=500, ram_gb_limit=1)\n",
    "db.put_samples(X, y)\n",
    "db.close()"
   ]
  },
  {
   "cell_type": "markdown",
   "metadata": {},
   "source": [
    "## Using the batch generator"
   ]
  },
  {
   "cell_type": "markdown",
   "metadata": {},
   "source": [
    "Read back the data using the LMDB reader."
   ]
  },
  {
   "cell_type": "code",
   "execution_count": 4,
   "metadata": {
    "collapsed": true
   },
   "outputs": [],
   "source": [
    "db = pyxis.Reader('data')"
   ]
  },
  {
   "cell_type": "markdown",
   "metadata": {},
   "source": [
    "###  Example 1 - Number of samples is a multiple of the batch size"
   ]
  },
  {
   "cell_type": "markdown",
   "metadata": {},
   "source": [
    "In this first example we create a batch generator where the number of samples is divisible by the batch size."
   ]
  },
  {
   "cell_type": "code",
   "execution_count": 5,
   "metadata": {
    "collapsed": true
   },
   "outputs": [],
   "source": [
    "batch_gen = db.batch_generator(batch_size=5, shuffle=False)"
   ]
  },
  {
   "cell_type": "markdown",
   "metadata": {},
   "source": [
    "The artificial dataset has `10` samples, so by letting the batch size be `5` it will take *two* iterations to go through the whole dataset. The artificial targets for four batches are printed out to showcase this.\n",
    "\n",
    "`endless_mode` is by default on, which means that after having gone through the dataset, the generator will re-iterate over the data."
   ]
  },
  {
   "cell_type": "code",
   "execution_count": 6,
   "metadata": {
    "collapsed": false
   },
   "outputs": [
    {
     "name": "stdout",
     "output_type": "stream",
     "text": [
      "\n",
      "Iteration: 0 \tTargets: [0 1 2 3 4]\n",
      "\n",
      "Iteration: 1 \tTargets: [5 6 7 8 9]\n",
      "We have reached the end of the dataset\n",
      "\n",
      "Iteration: 2 \tTargets: [0 1 2 3 4]\n",
      "\n",
      "Iteration: 3 \tTargets: [5 6 7 8 9]\n",
      "We have reached the end of the dataset\n"
     ]
    }
   ],
   "source": [
    "for i in range(4):\n",
    "    xs, ys = next(batch_gen)\n",
    "    print()\n",
    "    print('Iteration:', i, '\\tTargets:', ys)\n",
    "    if db.end_of_dataset:\n",
    "        print('We have reached the end of the dataset')"
   ]
  },
  {
   "cell_type": "markdown",
   "metadata": {},
   "source": [
    "### Example 2 - Number of samples is not a multiple of the batch size"
   ]
  },
  {
   "cell_type": "code",
   "execution_count": 7,
   "metadata": {
    "collapsed": true
   },
   "outputs": [],
   "source": [
    "batch_gen = db.batch_generator(batch_size=3, shuffle=False)"
   ]
  },
  {
   "cell_type": "markdown",
   "metadata": {},
   "source": [
    "The artificial dataset has `10` samples, so by letting the batch size be `3` it will take four iterations to go through the whole dataset. The artificial targets for *six* batches are printed out to showcase this.\n",
    "\n",
    "Notice that the final batch of the dataset only contains the remaining unseen samples."
   ]
  },
  {
   "cell_type": "code",
   "execution_count": 8,
   "metadata": {
    "collapsed": false
   },
   "outputs": [
    {
     "name": "stdout",
     "output_type": "stream",
     "text": [
      "\n",
      "Iteration: 0 \tTargets: [0 1 2]\n",
      "\n",
      "Iteration: 1 \tTargets: [3 4 5]\n",
      "\n",
      "Iteration: 2 \tTargets: [6 7 8]\n",
      "\n",
      "Iteration: 3 \tTargets: [9]\n",
      "We have reached the end of the dataset\n",
      "\n",
      "Iteration: 4 \tTargets: [0 1 2]\n",
      "\n",
      "Iteration: 5 \tTargets: [3 4 5]\n"
     ]
    }
   ],
   "source": [
    "for i in range(6):\n",
    "    xs, ys = next(batch_gen)\n",
    "    print()\n",
    "    print('Iteration:', i, '\\tTargets:', ys)\n",
    "    if db.end_of_dataset:\n",
    "        print('We have reached the end of the dataset')"
   ]
  },
  {
   "cell_type": "markdown",
   "metadata": {},
   "source": [
    "### Example 3 - Shuffling of data"
   ]
  },
  {
   "cell_type": "markdown",
   "metadata": {},
   "source": [
    "Until now we have created batches by reading samples from the dataset in the order they were written. However, by turning shuffling on, the samples in the dataset will be reshuffled each time we go through the dataset."
   ]
  },
  {
   "cell_type": "code",
   "execution_count": 9,
   "metadata": {
    "collapsed": true
   },
   "outputs": [],
   "source": [
    "batch_gen = db.batch_generator(batch_size=5, shuffle=True)"
   ]
  },
  {
   "cell_type": "code",
   "execution_count": 10,
   "metadata": {
    "collapsed": false
   },
   "outputs": [
    {
     "name": "stdout",
     "output_type": "stream",
     "text": [
      "\n",
      "Iteration: 0 \tTargets: [0 2 5 9 8]\n",
      "\n",
      "Iteration: 1 \tTargets: [6 3 1 7 4]\n",
      "We have reached the end of the dataset\n",
      "\n",
      "Iteration: 2 \tTargets: [4 6 1 9 7]\n",
      "\n",
      "Iteration: 3 \tTargets: [2 5 0 3 8]\n",
      "We have reached the end of the dataset\n",
      "\n",
      "Iteration: 4 \tTargets: [4 5 1 9 2]\n",
      "\n",
      "Iteration: 5 \tTargets: [3 7 0 8 6]\n",
      "We have reached the end of the dataset\n"
     ]
    }
   ],
   "source": [
    "for i in range(6):\n",
    "    xs, ys = next(batch_gen)\n",
    "    print()\n",
    "    print('Iteration:', i, '\\tTargets:', ys)\n",
    "    if db.end_of_dataset:\n",
    "        print('We have reached the end of the dataset')"
   ]
  },
  {
   "cell_type": "markdown",
   "metadata": {},
   "source": [
    "### Example 4 - Stochastic batch generator"
   ]
  },
  {
   "cell_type": "markdown",
   "metadata": {},
   "source": [
    "Batches can be created stochastically. This means that the samples in a batch are sampled uniformly from the entire dataset. Here we showcase *ten* different batches with a batch size of *five*."
   ]
  },
  {
   "cell_type": "code",
   "execution_count": 11,
   "metadata": {
    "collapsed": true
   },
   "outputs": [],
   "source": [
    "sbg = db.stochastic_batch_generator(batch_size=5)"
   ]
  },
  {
   "cell_type": "code",
   "execution_count": 12,
   "metadata": {
    "collapsed": false
   },
   "outputs": [
    {
     "name": "stdout",
     "output_type": "stream",
     "text": [
      "Iteration: 0 \tTargets: [1 8 8 1 4]\n",
      "Iteration: 1 \tTargets: [4 0 0 5 2]\n",
      "Iteration: 2 \tTargets: [1 8 7 3 7]\n",
      "Iteration: 3 \tTargets: [7 4 5 9 0]\n",
      "Iteration: 4 \tTargets: [2 3 3 1 3]\n",
      "Iteration: 5 \tTargets: [4 5 0 4 9]\n",
      "Iteration: 6 \tTargets: [3 1 2 5 3]\n",
      "Iteration: 7 \tTargets: [3 9 5 3 2]\n",
      "Iteration: 8 \tTargets: [3 2 1 1 4]\n",
      "Iteration: 9 \tTargets: [5 3 6 4 7]\n"
     ]
    }
   ],
   "source": [
    "for i in range(10):\n",
    "    xs, ys = next(sbg)\n",
    "    print('Iteration:', i, '\\tTargets:', ys)"
   ]
  },
  {
   "cell_type": "markdown",
   "metadata": {},
   "source": [
    "## Close everything\n",
    "We should make sure to close the LMDB environment after we are done reading.\n",
    "\n"
   ]
  },
  {
   "cell_type": "code",
   "execution_count": 13,
   "metadata": {
    "collapsed": true
   },
   "outputs": [],
   "source": [
    "db.close()"
   ]
  }
 ],
 "metadata": {
  "kernelspec": {
   "display_name": "Python 3",
   "language": "python",
   "name": "python3"
  },
  "language_info": {
   "codemirror_mode": {
    "name": "ipython",
    "version": 3
   },
   "file_extension": ".py",
   "mimetype": "text/x-python",
   "name": "python",
   "nbconvert_exporter": "python",
   "pygments_lexer": "ipython3",
   "version": "3.5.1+"
  }
 },
 "nbformat": 4,
 "nbformat_minor": 0
}
